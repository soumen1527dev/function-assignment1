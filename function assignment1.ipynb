{
 "cells": [
  {
   "cell_type": "code",
   "execution_count": 12,
   "id": "46f913f7-f775-4e7b-aac6-582f875e9e27",
   "metadata": {},
   "outputs": [
    {
     "data": {
      "text/plain": [
       "[1, 3, 5, 7, 9, 11, 13, 15, 17, 19, 21, 23, 25]"
      ]
     },
     "execution_count": 12,
     "metadata": {},
     "output_type": "execute_result"
    }
   ],
   "source": [
    "# Q1. Which keyword is used to create a function? Create a function to return a list of odd numbers in the\n",
    "# range of 1 to 25.\n",
    "# Ans :\n",
    "\n",
    "#def keyword is used to create a function. Example -\n",
    "\n",
    "def odd():\n",
    "    odd_numbers = []\n",
    "    for i in range(1,26):\n",
    "        if i %2 != 0:\n",
    "            odd_numbers.append(i)\n",
    "    return odd_numbers\n",
    "odd()   "
   ]
  },
  {
   "cell_type": "code",
   "execution_count": 17,
   "id": "7954eb9e-769a-46a6-9803-b2cea4ef5124",
   "metadata": {},
   "outputs": [
    {
     "data": {
      "text/plain": [
       "(1, 2, 3, 4, 36.85, [89, 56, 36, 75])"
      ]
     },
     "execution_count": 17,
     "metadata": {},
     "output_type": "execute_result"
    }
   ],
   "source": [
    "# Q2. Why *args and **kwargs is used in some functions? Create a function each for *args and **kwargs\n",
    "# to demonstrate their use.\n",
    "# Ans : \n",
    "\n",
    "# args is used to take multiple argumant and kwargs is used to print the elements as a key value format. Example -\n",
    "def test(*args):\n",
    "    return args\n",
    "test(1,2,3,4,36.85,[89,56,36,75])"
   ]
  },
  {
   "cell_type": "code",
   "execution_count": 18,
   "id": "b7c20efc-d467-419d-a12e-4b81e8415b6d",
   "metadata": {},
   "outputs": [
    {
     "data": {
      "text/plain": [
       "{'a': [1, 2, 3, 4], 'b': 96.37}"
      ]
     },
     "execution_count": 18,
     "metadata": {},
     "output_type": "execute_result"
    }
   ],
   "source": [
    "def key_value(**kwargs):\n",
    "    return kwargs\n",
    "key_value(a=[1,2,3,4], b=96.37)"
   ]
  },
  {
   "cell_type": "code",
   "execution_count": 19,
   "id": "3d5961a2-35ff-4b17-8392-5af4200e04ca",
   "metadata": {},
   "outputs": [
    {
     "name": "stdout",
     "output_type": "stream",
     "text": [
      "2\n",
      "4\n",
      "6\n",
      "8\n",
      "10\n"
     ]
    }
   ],
   "source": [
    "# Q3. What is an iterator in python? Name the method used to initialise the iterator object and the method\n",
    "# used for iteration. Use these methods to print the first five elements of the given list [2, 4, 6, 8, 10, 12, 14,\n",
    "# 16, 18, 20].\n",
    "# Ans :\n",
    "\n",
    "# Iterator:- An iterator in Python is an object that contains a countable number of elements that can be iterated upon.\n",
    "list = [2,4,6,8,10,12,14,16,18,20]\n",
    "iterator = iter (list)\n",
    "\n",
    "for i in range(5):\n",
    "    element = next(iterator)\n",
    "    print (element)"
   ]
  },
  {
   "cell_type": "code",
   "execution_count": 21,
   "id": "127599e2-02d4-4f0d-a6df-aec0e96348f6",
   "metadata": {},
   "outputs": [
    {
     "name": "stdout",
     "output_type": "stream",
     "text": [
      "0\n",
      "1\n",
      "1\n",
      "2\n",
      "3\n",
      "5\n",
      "8\n",
      "13\n",
      "21\n",
      "34\n"
     ]
    }
   ],
   "source": [
    "# Q4. What is a generator function in python? Why yield keyword is used? Give an example of a generator\n",
    "# function.\n",
    "# Ans :\n",
    "\n",
    "# A Python generator function allows you to declare a function that behaves like an iterator, providing\n",
    "# a faster and easier way to create iterators.\n",
    "\n",
    "# yield keyword is used to create a generator function.\n",
    "\n",
    "def test_fib(n):\n",
    "    a,b = 0,1\n",
    "    for i in range(n):\n",
    "        yield a\n",
    "        a,b = b, a+b\n",
    "        \n",
    "for i in test_fib(10) :\n",
    "    print (i)"
   ]
  },
  {
   "cell_type": "code",
   "execution_count": 22,
   "id": "6bfe3a79-3fdf-4e39-b1a6-dc04294ca489",
   "metadata": {},
   "outputs": [
    {
     "name": "stdout",
     "output_type": "stream",
     "text": [
      "2\n",
      "3\n",
      "5\n",
      "7\n",
      "11\n",
      "13\n",
      "17\n",
      "19\n",
      "23\n",
      "29\n",
      "31\n",
      "37\n",
      "41\n",
      "43\n",
      "47\n",
      "53\n",
      "59\n",
      "61\n",
      "67\n",
      "71\n"
     ]
    }
   ],
   "source": [
    "# Q5. Create a generator function for prime numbers less than 1000. Use the next() method to print the\n",
    "# first 20 prime numbers.\n",
    "# Ans :\n",
    "\n",
    "def is_prime(n):\n",
    "    if n <= 1:\n",
    "        return False\n",
    "    if n <= 3:\n",
    "        return True\n",
    "    if n % 2 == 0 or n % 3 == 0:\n",
    "        return False\n",
    "    i = 5\n",
    "    while i * i <= n:\n",
    "        if n % i == 0 or n % (i + 2) == 0:\n",
    "            return False\n",
    "        i += 6\n",
    "    return True\n",
    "\n",
    "def prime_generator(limit):\n",
    "    num = 2\n",
    "    while num < limit:\n",
    "        if is_prime(num):\n",
    "            yield num\n",
    "        num += 1\n",
    "\n",
    "prime_gen = prime_generator(1000)\n",
    "\n",
    "for _ in range(20):\n",
    "    prime = next(prime_gen)\n",
    "    print(prime)"
   ]
  },
  {
   "cell_type": "code",
   "execution_count": 27,
   "id": "40735981-e6ad-45da-968c-1b8e5b245d74",
   "metadata": {},
   "outputs": [
    {
     "name": "stdout",
     "output_type": "stream",
     "text": [
      "0\n",
      "1\n",
      "1\n",
      "2\n",
      "3\n",
      "5\n",
      "8\n",
      "13\n",
      "21\n",
      "34\n"
     ]
    }
   ],
   "source": [
    "# Q6. Write a python program to print the first 10 Fibonacci numbers using a while loop.\n",
    "# Ans :\n",
    "\n",
    "def test_fib1():\n",
    "    a,b = 0,1\n",
    "    while True:\n",
    "        yield a\n",
    "        a,b = b, a+b\n",
    "fib = test_fib1()\n",
    "        \n",
    "for i in range(10):\n",
    "    print (next(fib))"
   ]
  },
  {
   "cell_type": "code",
   "execution_count": 32,
   "id": "5a3a7597-9d32-4900-9f91-4d96f9c0bc24",
   "metadata": {},
   "outputs": [
    {
     "name": "stdout",
     "output_type": "stream",
     "text": [
      "['p', 'w', 's', 'k', 'i', 'l', 'l', 's']\n"
     ]
    }
   ],
   "source": [
    "# Q7. Write a List Comprehension to iterate through the given string: ‘pwskills’.\n",
    "# Expected output: ['p', 'w', 's', 'k', 'i', 'l', 'l', 's']\n",
    "# Ans :\n",
    "\n",
    "input_string = 'pwskills'\n",
    "output_list = [char for char in input_string if char in 'pwskil']\n",
    "print(output_list)"
   ]
  },
  {
   "cell_type": "code",
   "execution_count": 35,
   "id": "629a287f-7766-4159-84f4-d5d8b1228996",
   "metadata": {},
   "outputs": [
    {
     "name": "stdin",
     "output_type": "stream",
     "text": [
      "Enter a number:  585\n"
     ]
    },
    {
     "name": "stdout",
     "output_type": "stream",
     "text": [
      "585 is a palindrome!\n"
     ]
    }
   ],
   "source": [
    "# Q8. Write a python program to check whether a given number is Palindrome or not using a while loop.\n",
    "# Ans :\n",
    "\n",
    "def is_palindrome(number):\n",
    "    original_number = number\n",
    "    reversed_number = 0\n",
    "    \n",
    "    while number > 0:\n",
    "        digit = number % 10\n",
    "        reversed_number = reversed_number * 10 + digit\n",
    "        number = number // 10\n",
    "        \n",
    "    if original_number == reversed_number:\n",
    "        return True\n",
    "    else:\n",
    "        return False\n",
    "\n",
    "# Input from user\n",
    "num = int(input(\"Enter a number: \"))\n",
    "\n",
    "if is_palindrome(num):\n",
    "    print(num, \"is a palindrome!\")\n",
    "else:\n",
    "    print(num, \"is not a palindrome.\")"
   ]
  },
  {
   "cell_type": "code",
   "execution_count": 36,
   "id": "b769bcbb-6cb5-4dea-a6c4-aa8eddc3dd13",
   "metadata": {},
   "outputs": [
    {
     "data": {
      "text/plain": [
       "[1,\n",
       " 3,\n",
       " 5,\n",
       " 7,\n",
       " 9,\n",
       " 11,\n",
       " 13,\n",
       " 15,\n",
       " 17,\n",
       " 19,\n",
       " 21,\n",
       " 23,\n",
       " 25,\n",
       " 27,\n",
       " 29,\n",
       " 31,\n",
       " 33,\n",
       " 35,\n",
       " 37,\n",
       " 39,\n",
       " 41,\n",
       " 43,\n",
       " 45,\n",
       " 47,\n",
       " 49,\n",
       " 51,\n",
       " 53,\n",
       " 55,\n",
       " 57,\n",
       " 59,\n",
       " 61,\n",
       " 63,\n",
       " 65,\n",
       " 67,\n",
       " 69,\n",
       " 71,\n",
       " 73,\n",
       " 75,\n",
       " 77,\n",
       " 79,\n",
       " 81,\n",
       " 83,\n",
       " 85,\n",
       " 87,\n",
       " 89,\n",
       " 91,\n",
       " 93,\n",
       " 95,\n",
       " 97,\n",
       " 99]"
      ]
     },
     "execution_count": 36,
     "metadata": {},
     "output_type": "execute_result"
    }
   ],
   "source": [
    "# Q9. Write a code to print odd numbers from 1 to 100 using list comprehension.\n",
    "# Ans :\n",
    "\n",
    "def odd():\n",
    "    odd_numbers = []\n",
    "    for i in range(1,101):\n",
    "        if i %2 != 0:\n",
    "            odd_numbers.append(i)\n",
    "    return odd_numbers\n",
    "odd()   \n",
    "    "
   ]
  },
  {
   "cell_type": "code",
   "execution_count": null,
   "id": "2591f6df-0e09-4f90-bd35-d24f7ab7166a",
   "metadata": {},
   "outputs": [],
   "source": []
  }
 ],
 "metadata": {
  "kernelspec": {
   "display_name": "Python 3 (ipykernel)",
   "language": "python",
   "name": "python3"
  },
  "language_info": {
   "codemirror_mode": {
    "name": "ipython",
    "version": 3
   },
   "file_extension": ".py",
   "mimetype": "text/x-python",
   "name": "python",
   "nbconvert_exporter": "python",
   "pygments_lexer": "ipython3",
   "version": "3.10.8"
  }
 },
 "nbformat": 4,
 "nbformat_minor": 5
}
